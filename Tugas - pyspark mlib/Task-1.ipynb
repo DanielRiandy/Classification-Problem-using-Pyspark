{
 "cells": [
  {
   "cell_type": "code",
   "execution_count": 1,
   "metadata": {
    "id": "76xVITyp6Co0"
   },
   "outputs": [],
   "source": [
    "!apt-get install openjdk-8-jdk-headless -qq > /dev/null\n",
    "!wget -q https://archive.apache.org/dist/spark/spark-2.4.4/spark-2.4.4-bin-hadoop2.7.tgz\n",
    "!tar xf spark-2.4.4-bin-hadoop2.7.tgz\n",
    "!pip install -q findspark\n",
    "\n",
    "import os\n",
    "os.environ[\"JAVA_HOME\"] = \"/usr/lib/jvm/java-8-openjdk-amd64\"\n",
    "os.environ[\"SPARK_HOME\"] = \"/content/spark-2.4.4-bin-hadoop2.7\"\n",
    "\n",
    "import findspark\n",
    "findspark.init(\"spark-2.4.4-bin-hadoop2.7\")# SPARK_HOME\n",
    "\n",
    "from pyspark import SparkContext\n",
    "sc = SparkContext(\"local\", \"Task-1\")"
   ]
  },
  {
   "cell_type": "code",
   "execution_count": 2,
   "metadata": {
    "colab": {
     "base_uri": "https://localhost:8080/"
    },
    "id": "_Yz2e8vc6o-O",
    "outputId": "38743b3e-66d4-4f47-e3bd-2e9692c8fb56"
   },
   "outputs": [
    {
     "name": "stdout",
     "output_type": "stream",
     "text": [
      "root\n",
      " |-- PatientId: string (nullable = true)\n",
      " |-- AppointmentID: string (nullable = true)\n",
      " |-- Gender: string (nullable = true)\n",
      " |-- ScheduledDay: timestamp (nullable = true)\n",
      " |-- AppointmentDay: timestamp (nullable = true)\n",
      " |-- Age: integer (nullable = true)\n",
      " |-- Neighbourhood: string (nullable = true)\n",
      " |-- Scholarship: integer (nullable = true)\n",
      " |-- Hipertension: integer (nullable = true)\n",
      " |-- Diabetes: integer (nullable = true)\n",
      " |-- Alcoholism: integer (nullable = true)\n",
      " |-- Handcap: integer (nullable = true)\n",
      " |-- SMS_received: integer (nullable = true)\n",
      " |-- No-show: string (nullable = true)\n",
      "\n"
     ]
    }
   ],
   "source": [
    "from pyspark.sql.session import SparkSession\n",
    "import pyspark.sql.types as tp\n",
    "\n",
    "my_schema = tp.StructType([\n",
    "    tp.StructField(name= 'PatientId',      dataType= tp.StringType(),   nullable= True),\n",
    "    tp.StructField(name= 'AppointmentID', dataType= tp.StringType(),    nullable= True),\n",
    "    tp.StructField(name= 'Gender',       dataType= tp.StringType(),   nullable= True),\n",
    "    tp.StructField(name= 'ScheduledDay',  dataType= tp.TimestampType(),    nullable= True),\n",
    "    tp.StructField(name= 'AppointmentDay',   dataType= tp.TimestampType(),    nullable= True),\n",
    "    tp.StructField(name= 'Age',       dataType= tp.IntegerType(),    nullable= True),\n",
    "    tp.StructField(name= 'Neighbourhood',    dataType= tp.StringType(),   nullable= True),\n",
    "    tp.StructField(name= 'Scholarship',           dataType= tp.IntegerType(),   nullable= True),\n",
    "    tp.StructField(name= 'Hipertension',       dataType=tp.IntegerType(),   nullable= True),\n",
    "    tp.StructField(name= 'Diabetes',   dataType= tp.IntegerType(),   nullable= True),\n",
    "    tp.StructField(name= 'Alcoholism',     dataType= tp.IntegerType(),   nullable= True),\n",
    "    tp.StructField(name= 'Handcap',         dataType= tp.IntegerType(),    nullable= True),\n",
    "    tp.StructField(name= 'SMS_received',         dataType= tp.IntegerType(),   nullable= True),\n",
    "    tp.StructField(name= 'No-show',    dataType= tp.StringType(), nullable= True)    \n",
    "])\n",
    "\n",
    "sp = SparkSession(sc)\n",
    "df = sp.read.csv('KaggleV2-May-2016.csv',header=True,schema=my_schema)\n",
    "df.printSchema()"
   ]
  },
  {
   "cell_type": "code",
   "execution_count": 3,
   "metadata": {
    "colab": {
     "base_uri": "https://localhost:8080/",
     "height": 374
    },
    "id": "CiSn1db06Gkc",
    "outputId": "8d36eae4-01ed-4144-f9c9-1830afce4112"
   },
   "outputs": [
    {
     "data": {
      "text/html": [
       "\n",
       "  <div id=\"df-5db8e3eb-d2db-44c5-a720-a28eac2c38cc\">\n",
       "    <div class=\"colab-df-container\">\n",
       "      <div>\n",
       "<style scoped>\n",
       "    .dataframe tbody tr th:only-of-type {\n",
       "        vertical-align: middle;\n",
       "    }\n",
       "\n",
       "    .dataframe tbody tr th {\n",
       "        vertical-align: top;\n",
       "    }\n",
       "\n",
       "    .dataframe thead th {\n",
       "        text-align: right;\n",
       "    }\n",
       "</style>\n",
       "<table border=\"1\" class=\"dataframe\">\n",
       "  <thead>\n",
       "    <tr style=\"text-align: right;\">\n",
       "      <th></th>\n",
       "      <th>PatientId</th>\n",
       "      <th>AppointmentID</th>\n",
       "      <th>Gender</th>\n",
       "      <th>ScheduledDay</th>\n",
       "      <th>AppointmentDay</th>\n",
       "      <th>Age</th>\n",
       "      <th>Neighbourhood</th>\n",
       "      <th>Scholarship</th>\n",
       "      <th>Hipertension</th>\n",
       "      <th>Diabetes</th>\n",
       "      <th>Alcoholism</th>\n",
       "      <th>Handcap</th>\n",
       "      <th>SMS_received</th>\n",
       "      <th>No-show</th>\n",
       "    </tr>\n",
       "  </thead>\n",
       "  <tbody>\n",
       "    <tr>\n",
       "      <th>0</th>\n",
       "      <td>29872499824296</td>\n",
       "      <td>5642903</td>\n",
       "      <td>F</td>\n",
       "      <td>2016-04-29 18:38:08</td>\n",
       "      <td>2016-04-29</td>\n",
       "      <td>62</td>\n",
       "      <td>JARDIM DA PENHA</td>\n",
       "      <td>0</td>\n",
       "      <td>1</td>\n",
       "      <td>0</td>\n",
       "      <td>0</td>\n",
       "      <td>0</td>\n",
       "      <td>0</td>\n",
       "      <td>No</td>\n",
       "    </tr>\n",
       "    <tr>\n",
       "      <th>1</th>\n",
       "      <td>558997776694438</td>\n",
       "      <td>5642503</td>\n",
       "      <td>M</td>\n",
       "      <td>2016-04-29 16:08:27</td>\n",
       "      <td>2016-04-29</td>\n",
       "      <td>56</td>\n",
       "      <td>JARDIM DA PENHA</td>\n",
       "      <td>0</td>\n",
       "      <td>0</td>\n",
       "      <td>0</td>\n",
       "      <td>0</td>\n",
       "      <td>0</td>\n",
       "      <td>0</td>\n",
       "      <td>No</td>\n",
       "    </tr>\n",
       "    <tr>\n",
       "      <th>2</th>\n",
       "      <td>4262962299951</td>\n",
       "      <td>5642549</td>\n",
       "      <td>F</td>\n",
       "      <td>2016-04-29 16:19:04</td>\n",
       "      <td>2016-04-29</td>\n",
       "      <td>62</td>\n",
       "      <td>MATA DA PRAIA</td>\n",
       "      <td>0</td>\n",
       "      <td>0</td>\n",
       "      <td>0</td>\n",
       "      <td>0</td>\n",
       "      <td>0</td>\n",
       "      <td>0</td>\n",
       "      <td>No</td>\n",
       "    </tr>\n",
       "    <tr>\n",
       "      <th>3</th>\n",
       "      <td>867951213174</td>\n",
       "      <td>5642828</td>\n",
       "      <td>F</td>\n",
       "      <td>2016-04-29 17:29:31</td>\n",
       "      <td>2016-04-29</td>\n",
       "      <td>8</td>\n",
       "      <td>PONTAL DE CAMBURI</td>\n",
       "      <td>0</td>\n",
       "      <td>0</td>\n",
       "      <td>0</td>\n",
       "      <td>0</td>\n",
       "      <td>0</td>\n",
       "      <td>0</td>\n",
       "      <td>No</td>\n",
       "    </tr>\n",
       "    <tr>\n",
       "      <th>4</th>\n",
       "      <td>8841186448183</td>\n",
       "      <td>5642494</td>\n",
       "      <td>F</td>\n",
       "      <td>2016-04-29 16:07:23</td>\n",
       "      <td>2016-04-29</td>\n",
       "      <td>56</td>\n",
       "      <td>JARDIM DA PENHA</td>\n",
       "      <td>0</td>\n",
       "      <td>1</td>\n",
       "      <td>1</td>\n",
       "      <td>0</td>\n",
       "      <td>0</td>\n",
       "      <td>0</td>\n",
       "      <td>No</td>\n",
       "    </tr>\n",
       "  </tbody>\n",
       "</table>\n",
       "</div>\n",
       "      <button class=\"colab-df-convert\" onclick=\"convertToInteractive('df-5db8e3eb-d2db-44c5-a720-a28eac2c38cc')\"\n",
       "              title=\"Convert this dataframe to an interactive table.\"\n",
       "              style=\"display:none;\">\n",
       "        \n",
       "  <svg xmlns=\"http://www.w3.org/2000/svg\" height=\"24px\"viewBox=\"0 0 24 24\"\n",
       "       width=\"24px\">\n",
       "    <path d=\"M0 0h24v24H0V0z\" fill=\"none\"/>\n",
       "    <path d=\"M18.56 5.44l.94 2.06.94-2.06 2.06-.94-2.06-.94-.94-2.06-.94 2.06-2.06.94zm-11 1L8.5 8.5l.94-2.06 2.06-.94-2.06-.94L8.5 2.5l-.94 2.06-2.06.94zm10 10l.94 2.06.94-2.06 2.06-.94-2.06-.94-.94-2.06-.94 2.06-2.06.94z\"/><path d=\"M17.41 7.96l-1.37-1.37c-.4-.4-.92-.59-1.43-.59-.52 0-1.04.2-1.43.59L10.3 9.45l-7.72 7.72c-.78.78-.78 2.05 0 2.83L4 21.41c.39.39.9.59 1.41.59.51 0 1.02-.2 1.41-.59l7.78-7.78 2.81-2.81c.8-.78.8-2.07 0-2.86zM5.41 20L4 18.59l7.72-7.72 1.47 1.35L5.41 20z\"/>\n",
       "  </svg>\n",
       "      </button>\n",
       "      \n",
       "  <style>\n",
       "    .colab-df-container {\n",
       "      display:flex;\n",
       "      flex-wrap:wrap;\n",
       "      gap: 12px;\n",
       "    }\n",
       "\n",
       "    .colab-df-convert {\n",
       "      background-color: #E8F0FE;\n",
       "      border: none;\n",
       "      border-radius: 50%;\n",
       "      cursor: pointer;\n",
       "      display: none;\n",
       "      fill: #1967D2;\n",
       "      height: 32px;\n",
       "      padding: 0 0 0 0;\n",
       "      width: 32px;\n",
       "    }\n",
       "\n",
       "    .colab-df-convert:hover {\n",
       "      background-color: #E2EBFA;\n",
       "      box-shadow: 0px 1px 2px rgba(60, 64, 67, 0.3), 0px 1px 3px 1px rgba(60, 64, 67, 0.15);\n",
       "      fill: #174EA6;\n",
       "    }\n",
       "\n",
       "    [theme=dark] .colab-df-convert {\n",
       "      background-color: #3B4455;\n",
       "      fill: #D2E3FC;\n",
       "    }\n",
       "\n",
       "    [theme=dark] .colab-df-convert:hover {\n",
       "      background-color: #434B5C;\n",
       "      box-shadow: 0px 1px 3px 1px rgba(0, 0, 0, 0.15);\n",
       "      filter: drop-shadow(0px 1px 2px rgba(0, 0, 0, 0.3));\n",
       "      fill: #FFFFFF;\n",
       "    }\n",
       "  </style>\n",
       "\n",
       "      <script>\n",
       "        const buttonEl =\n",
       "          document.querySelector('#df-5db8e3eb-d2db-44c5-a720-a28eac2c38cc button.colab-df-convert');\n",
       "        buttonEl.style.display =\n",
       "          google.colab.kernel.accessAllowed ? 'block' : 'none';\n",
       "\n",
       "        async function convertToInteractive(key) {\n",
       "          const element = document.querySelector('#df-5db8e3eb-d2db-44c5-a720-a28eac2c38cc');\n",
       "          const dataTable =\n",
       "            await google.colab.kernel.invokeFunction('convertToInteractive',\n",
       "                                                     [key], {});\n",
       "          if (!dataTable) return;\n",
       "\n",
       "          const docLinkHtml = 'Like what you see? Visit the ' +\n",
       "            '<a target=\"_blank\" href=https://colab.research.google.com/notebooks/data_table.ipynb>data table notebook</a>'\n",
       "            + ' to learn more about interactive tables.';\n",
       "          element.innerHTML = '';\n",
       "          dataTable['output_type'] = 'display_data';\n",
       "          await google.colab.output.renderOutput(dataTable, element);\n",
       "          const docLink = document.createElement('div');\n",
       "          docLink.innerHTML = docLinkHtml;\n",
       "          element.appendChild(docLink);\n",
       "        }\n",
       "      </script>\n",
       "    </div>\n",
       "  </div>\n",
       "  "
      ],
      "text/plain": [
       "         PatientId AppointmentID Gender  ... Handcap SMS_received  No-show\n",
       "0   29872499824296       5642903      F  ...       0            0       No\n",
       "1  558997776694438       5642503      M  ...       0            0       No\n",
       "2    4262962299951       5642549      F  ...       0            0       No\n",
       "3     867951213174       5642828      F  ...       0            0       No\n",
       "4    8841186448183       5642494      F  ...       0            0       No\n",
       "\n",
       "[5 rows x 14 columns]"
      ]
     },
     "execution_count": 3,
     "metadata": {},
     "output_type": "execute_result"
    }
   ],
   "source": [
    "import pandas as pd\n",
    "pd.DataFrame(df.take(5),columns = df.columns)"
   ]
  },
  {
   "cell_type": "code",
   "execution_count": 4,
   "metadata": {
    "colab": {
     "base_uri": "https://localhost:8080/"
    },
    "id": "SqhSKYAMbWuY",
    "outputId": "a3b344f5-857a-4a7b-dad0-6d5469b33d00"
   },
   "outputs": [
    {
     "name": "stdout",
     "output_type": "stream",
     "text": [
      "+-----------------+-----+\n",
      "|    Neighbourhood|count|\n",
      "+-----------------+-----+\n",
      "|   BENTO FERREIRA|  318|\n",
      "|   JARDIM CAMBURI|  674|\n",
      "|         GURIGICA|  603|\n",
      "|    SÃO CRISTÓVÃO|  328|\n",
      "|     FONTE GRANDE|   55|\n",
      "|        FRADINHOS|  152|\n",
      "|         NAZARETH|   70|\n",
      "|          PIEDADE|   33|\n",
      "|      SANTA CLARA|  165|\n",
      "|      SANTOS REIS|  122|\n",
      "|     SOLON BORGES|   93|\n",
      "|    SANTO ANTÔNIO|  972|\n",
      "|     PRAIA DO SUÁ|  326|\n",
      "|PONTAL DE CAMBURI|    7|\n",
      "|       BELA VISTA|  972|\n",
      "|         DA PENHA|  350|\n",
      "|        CONQUISTA|  186|\n",
      "|       CRUZAMENTO|  863|\n",
      "|       GOIABEIRAS|  217|\n",
      "|       TABUAZEIRO|  515|\n",
      "+-----------------+-----+\n",
      "only showing top 20 rows\n",
      "\n"
     ]
    }
   ],
   "source": [
    "df.groupBy('Neighbourhood').count().show()"
   ]
  },
  {
   "cell_type": "code",
   "execution_count": 5,
   "metadata": {
    "id": "zDktrMpGbONO"
   },
   "outputs": [],
   "source": [
    "from pyspark.ml.feature import StringIndexer, OneHotEncoderEstimator,VectorAssembler\n",
    "from pyspark.ml import Pipeline\n",
    "\n",
    "df_final = df.select(['Gender','Age','Neighbourhood','Scholarship','Hipertension',\n",
    "                      'Diabetes','Alcoholism','Handcap','SMS_received','No-show'])\n",
    "\n",
    "df_final = df_final.na.drop()"
   ]
  },
  {
   "cell_type": "code",
   "execution_count": 6,
   "metadata": {
    "colab": {
     "base_uri": "https://localhost:8080/",
     "height": 206
    },
    "id": "Mwu2nh80dA6f",
    "outputId": "ae0caddd-e699-4d88-b21e-777f672df54f"
   },
   "outputs": [
    {
     "data": {
      "text/html": [
       "\n",
       "  <div id=\"df-9ca5680e-4107-4799-b35d-73218b06cbfd\">\n",
       "    <div class=\"colab-df-container\">\n",
       "      <div>\n",
       "<style scoped>\n",
       "    .dataframe tbody tr th:only-of-type {\n",
       "        vertical-align: middle;\n",
       "    }\n",
       "\n",
       "    .dataframe tbody tr th {\n",
       "        vertical-align: top;\n",
       "    }\n",
       "\n",
       "    .dataframe thead th {\n",
       "        text-align: right;\n",
       "    }\n",
       "</style>\n",
       "<table border=\"1\" class=\"dataframe\">\n",
       "  <thead>\n",
       "    <tr style=\"text-align: right;\">\n",
       "      <th></th>\n",
       "      <th>Gender</th>\n",
       "      <th>Age</th>\n",
       "      <th>Neighbourhood</th>\n",
       "      <th>Scholarship</th>\n",
       "      <th>Hipertension</th>\n",
       "      <th>Diabetes</th>\n",
       "      <th>Alcoholism</th>\n",
       "      <th>Handcap</th>\n",
       "      <th>SMS_received</th>\n",
       "      <th>No-show</th>\n",
       "    </tr>\n",
       "  </thead>\n",
       "  <tbody>\n",
       "    <tr>\n",
       "      <th>0</th>\n",
       "      <td>F</td>\n",
       "      <td>62</td>\n",
       "      <td>JARDIM DA PENHA</td>\n",
       "      <td>0</td>\n",
       "      <td>1</td>\n",
       "      <td>0</td>\n",
       "      <td>0</td>\n",
       "      <td>0</td>\n",
       "      <td>0</td>\n",
       "      <td>No</td>\n",
       "    </tr>\n",
       "    <tr>\n",
       "      <th>1</th>\n",
       "      <td>M</td>\n",
       "      <td>56</td>\n",
       "      <td>JARDIM DA PENHA</td>\n",
       "      <td>0</td>\n",
       "      <td>0</td>\n",
       "      <td>0</td>\n",
       "      <td>0</td>\n",
       "      <td>0</td>\n",
       "      <td>0</td>\n",
       "      <td>No</td>\n",
       "    </tr>\n",
       "    <tr>\n",
       "      <th>2</th>\n",
       "      <td>F</td>\n",
       "      <td>62</td>\n",
       "      <td>MATA DA PRAIA</td>\n",
       "      <td>0</td>\n",
       "      <td>0</td>\n",
       "      <td>0</td>\n",
       "      <td>0</td>\n",
       "      <td>0</td>\n",
       "      <td>0</td>\n",
       "      <td>No</td>\n",
       "    </tr>\n",
       "    <tr>\n",
       "      <th>3</th>\n",
       "      <td>F</td>\n",
       "      <td>8</td>\n",
       "      <td>PONTAL DE CAMBURI</td>\n",
       "      <td>0</td>\n",
       "      <td>0</td>\n",
       "      <td>0</td>\n",
       "      <td>0</td>\n",
       "      <td>0</td>\n",
       "      <td>0</td>\n",
       "      <td>No</td>\n",
       "    </tr>\n",
       "    <tr>\n",
       "      <th>4</th>\n",
       "      <td>F</td>\n",
       "      <td>56</td>\n",
       "      <td>JARDIM DA PENHA</td>\n",
       "      <td>0</td>\n",
       "      <td>1</td>\n",
       "      <td>1</td>\n",
       "      <td>0</td>\n",
       "      <td>0</td>\n",
       "      <td>0</td>\n",
       "      <td>No</td>\n",
       "    </tr>\n",
       "  </tbody>\n",
       "</table>\n",
       "</div>\n",
       "      <button class=\"colab-df-convert\" onclick=\"convertToInteractive('df-9ca5680e-4107-4799-b35d-73218b06cbfd')\"\n",
       "              title=\"Convert this dataframe to an interactive table.\"\n",
       "              style=\"display:none;\">\n",
       "        \n",
       "  <svg xmlns=\"http://www.w3.org/2000/svg\" height=\"24px\"viewBox=\"0 0 24 24\"\n",
       "       width=\"24px\">\n",
       "    <path d=\"M0 0h24v24H0V0z\" fill=\"none\"/>\n",
       "    <path d=\"M18.56 5.44l.94 2.06.94-2.06 2.06-.94-2.06-.94-.94-2.06-.94 2.06-2.06.94zm-11 1L8.5 8.5l.94-2.06 2.06-.94-2.06-.94L8.5 2.5l-.94 2.06-2.06.94zm10 10l.94 2.06.94-2.06 2.06-.94-2.06-.94-.94-2.06-.94 2.06-2.06.94z\"/><path d=\"M17.41 7.96l-1.37-1.37c-.4-.4-.92-.59-1.43-.59-.52 0-1.04.2-1.43.59L10.3 9.45l-7.72 7.72c-.78.78-.78 2.05 0 2.83L4 21.41c.39.39.9.59 1.41.59.51 0 1.02-.2 1.41-.59l7.78-7.78 2.81-2.81c.8-.78.8-2.07 0-2.86zM5.41 20L4 18.59l7.72-7.72 1.47 1.35L5.41 20z\"/>\n",
       "  </svg>\n",
       "      </button>\n",
       "      \n",
       "  <style>\n",
       "    .colab-df-container {\n",
       "      display:flex;\n",
       "      flex-wrap:wrap;\n",
       "      gap: 12px;\n",
       "    }\n",
       "\n",
       "    .colab-df-convert {\n",
       "      background-color: #E8F0FE;\n",
       "      border: none;\n",
       "      border-radius: 50%;\n",
       "      cursor: pointer;\n",
       "      display: none;\n",
       "      fill: #1967D2;\n",
       "      height: 32px;\n",
       "      padding: 0 0 0 0;\n",
       "      width: 32px;\n",
       "    }\n",
       "\n",
       "    .colab-df-convert:hover {\n",
       "      background-color: #E2EBFA;\n",
       "      box-shadow: 0px 1px 2px rgba(60, 64, 67, 0.3), 0px 1px 3px 1px rgba(60, 64, 67, 0.15);\n",
       "      fill: #174EA6;\n",
       "    }\n",
       "\n",
       "    [theme=dark] .colab-df-convert {\n",
       "      background-color: #3B4455;\n",
       "      fill: #D2E3FC;\n",
       "    }\n",
       "\n",
       "    [theme=dark] .colab-df-convert:hover {\n",
       "      background-color: #434B5C;\n",
       "      box-shadow: 0px 1px 3px 1px rgba(0, 0, 0, 0.15);\n",
       "      filter: drop-shadow(0px 1px 2px rgba(0, 0, 0, 0.3));\n",
       "      fill: #FFFFFF;\n",
       "    }\n",
       "  </style>\n",
       "\n",
       "      <script>\n",
       "        const buttonEl =\n",
       "          document.querySelector('#df-9ca5680e-4107-4799-b35d-73218b06cbfd button.colab-df-convert');\n",
       "        buttonEl.style.display =\n",
       "          google.colab.kernel.accessAllowed ? 'block' : 'none';\n",
       "\n",
       "        async function convertToInteractive(key) {\n",
       "          const element = document.querySelector('#df-9ca5680e-4107-4799-b35d-73218b06cbfd');\n",
       "          const dataTable =\n",
       "            await google.colab.kernel.invokeFunction('convertToInteractive',\n",
       "                                                     [key], {});\n",
       "          if (!dataTable) return;\n",
       "\n",
       "          const docLinkHtml = 'Like what you see? Visit the ' +\n",
       "            '<a target=\"_blank\" href=https://colab.research.google.com/notebooks/data_table.ipynb>data table notebook</a>'\n",
       "            + ' to learn more about interactive tables.';\n",
       "          element.innerHTML = '';\n",
       "          dataTable['output_type'] = 'display_data';\n",
       "          await google.colab.output.renderOutput(dataTable, element);\n",
       "          const docLink = document.createElement('div');\n",
       "          docLink.innerHTML = docLinkHtml;\n",
       "          element.appendChild(docLink);\n",
       "        }\n",
       "      </script>\n",
       "    </div>\n",
       "  </div>\n",
       "  "
      ],
      "text/plain": [
       "  Gender  Age      Neighbourhood  ...  Handcap  SMS_received  No-show\n",
       "0      F   62    JARDIM DA PENHA  ...        0             0       No\n",
       "1      M   56    JARDIM DA PENHA  ...        0             0       No\n",
       "2      F   62      MATA DA PRAIA  ...        0             0       No\n",
       "3      F    8  PONTAL DE CAMBURI  ...        0             0       No\n",
       "4      F   56    JARDIM DA PENHA  ...        0             0       No\n",
       "\n",
       "[5 rows x 10 columns]"
      ]
     },
     "execution_count": 6,
     "metadata": {},
     "output_type": "execute_result"
    }
   ],
   "source": [
    "pd.DataFrame(df_final.take(5),columns = df_final.columns)"
   ]
  },
  {
   "cell_type": "code",
   "execution_count": 7,
   "metadata": {
    "id": "gGZ8Df7ccc1m"
   },
   "outputs": [],
   "source": [
    "## STAGE 1 : Ubah kolom gender menjadi numeric\n",
    "stage_1 = StringIndexer(inputCol= 'Gender', outputCol= \"Gender_encoded\")\n",
    "\n",
    "## STAGE 2 : Ubah kolom neighbourhood menjadi numeric\n",
    "stage_2 = StringIndexer(inputCol= 'Neighbourhood', outputCol= \"N_encoded\")\n",
    "\n",
    "## STAGE 3 : Ubah kolom target menjadi numeric\n",
    "stage_3 = StringIndexer(inputCol= 'No-show', outputCol= \"No-show_encoded\")\n",
    "\n",
    "## STAGE 4 : Melakukan onehot encoding pada kolom gender\n",
    "stage_4 = OneHotEncoderEstimator(inputCols=[stage_1.getOutputCol()], \n",
    "                                 outputCols= [\"Gender_OHE\"])\n",
    "\n",
    "stage_5 = OneHotEncoderEstimator(inputCols=[\"Scholarship\"], \n",
    "                                 outputCols= [\"S_OHE\"])\n",
    "\n",
    "stage_6 = OneHotEncoderEstimator(inputCols=[\"Hipertension\"], \n",
    "                                 outputCols= [\"H_OHE\"])\n",
    "\n",
    "stage_7 = OneHotEncoderEstimator(inputCols=[\"Diabetes\"], \n",
    "                                 outputCols= [\"D_OHE\"])\n",
    "\n",
    "stage_8 = OneHotEncoderEstimator(inputCols=[\"Alcoholism\"], \n",
    "                                 outputCols= [\"A_OHE\"])\n",
    "\n",
    "stage_9= OneHotEncoderEstimator(inputCols=[\"Handcap\"], \n",
    "                                 outputCols= [\"Handcap_OHE\"])\n",
    "\n",
    "stage_10 = OneHotEncoderEstimator(inputCols=[\"SMS_received\"], \n",
    "                                 outputCols= [\"Sms_OHE\"])\n",
    "\n",
    "## STAGE 5 : VECTORIZATION\n",
    "stage_final = VectorAssembler(\n",
    "    inputCols=['Gender_OHE','Age','H_OHE','D_OHE','A_OHE','Handcap_OHE','Sms_OHE'],\n",
    "    outputCol=\"features\")\n",
    "\n",
    "pipeline = Pipeline(stages = [stage_1,stage_2,stage_3,stage_4,stage_5,stage_6,stage_7,stage_8,stage_9,stage_10,stage_final])\n",
    "pipelineModel = pipeline.fit(df_final)\n",
    "df_final = pipelineModel.transform(df_final)\n",
    "df_final = df_final.select(['No-show_encoded','features'])"
   ]
  },
  {
   "cell_type": "code",
   "execution_count": 8,
   "metadata": {
    "colab": {
     "base_uri": "https://localhost:8080/"
    },
    "id": "bUcb6saTla1v",
    "outputId": "56e711a0-c2bf-4126-c50d-22770757a7ca"
   },
   "outputs": [
    {
     "name": "stdout",
     "output_type": "stream",
     "text": [
      "Training Dataset Count: 22701\n",
      "Test Dataset Count: 9641\n"
     ]
    }
   ],
   "source": [
    "train, test = df_final.randomSplit([0.7, 0.3], seed = 42)\n",
    "print(\"Training Dataset Count: \" + str(train.count()))\n",
    "print(\"Test Dataset Count: \" + str(test.count()))"
   ]
  },
  {
   "cell_type": "code",
   "execution_count": 9,
   "metadata": {
    "id": "s02VZS6gm4DR"
   },
   "outputs": [],
   "source": [
    "from pyspark.ml.classification import LogisticRegression\n",
    "\n",
    "lr = LogisticRegression(featuresCol = 'features', labelCol = 'No-show_encoded')\n",
    "lrModel = lr.fit(train)\n",
    "trainingSummary = lrModel.summary"
   ]
  },
  {
   "cell_type": "code",
   "execution_count": 10,
   "metadata": {
    "colab": {
     "base_uri": "https://localhost:8080/",
     "height": 313
    },
    "id": "3KosCObooFfL",
    "outputId": "e7c2b8a2-2bde-4cce-ff42-c0528ec3f5d0"
   },
   "outputs": [
    {
     "data": {
      "image/png": "[encoded data removed]",
      "text/plain": [
       "<Figure size 432x288 with 1 Axes>"
      ]
     },
     "metadata": {
      "needs_background": "light"
     },
     "output_type": "display_data"
    },
    {
     "name": "stdout",
     "output_type": "stream",
     "text": [
      "Training set areaUnderROC: 0.598319428393696\n"
     ]
    }
   ],
   "source": [
    "import matplotlib.pyplot as plt\n",
    "import numpy as np\n",
    "\n",
    "trainingSummary = lrModel.summary\n",
    "roc = trainingSummary.roc.toPandas()\n",
    "plt.plot(roc['TPR'],roc['FPR'])\n",
    "plt.ylabel('False Positive Rate')\n",
    "plt.xlabel('True Positive Rate')\n",
    "plt.title('ROC Curve')\n",
    "plt.show()\n",
    "print('Training set areaUnderROC: ' + str(trainingSummary.areaUnderROC))"
   ]
  },
  {
   "cell_type": "code",
   "execution_count": 11,
   "metadata": {
    "colab": {
     "base_uri": "https://localhost:8080/"
    },
    "id": "4tgsmPJwjOrV",
    "outputId": "e158cd2b-ce6b-4725-ffad-d80e69998c79"
   },
   "outputs": [
    {
     "name": "stdout",
     "output_type": "stream",
     "text": [
      "+--------------------+---------------+--------------------+----------+--------------------+\n",
      "|            features|No-show_encoded|       rawPrediction|prediction|         probability|\n",
      "+--------------------+---------------+--------------------+----------+--------------------+\n",
      "|(9,[0,1,2,5],[1.0...|            0.0|[1.09073665444486...|       0.0|[0.74852041305943...|\n",
      "|(9,[0,1,3,5],[1.0...|            0.0|[0.92096826949453...|       0.0|[0.71523935619791...|\n",
      "|(9,[0,1,3,5],[1.0...|            0.0|[0.92916900531098...|       0.0|[0.71690666427857...|\n",
      "|(9,[0,1,3,5],[1.0...|            0.0|[1.01937709929185...|       0.0|[0.73485124820207...|\n",
      "|(9,[0,1,3,5],[1.0...|            0.0|[1.06858151419051...|       0.0|[0.74432706546809...|\n",
      "|(9,[0,1,3,5],[1.0...|            0.0|[1.11778592908916...|       0.0|[0.75357779811759...|\n",
      "|(9,[0,1,4,5],[1.0...|            0.0|[0.85495526070574...|       0.0|[0.70160558729656...|\n",
      "|(9,[0,1,4,5],[1.0...|            0.0|[0.89595893978796...|       0.0|[0.71011835612165...|\n",
      "|(9,[0,1,4,5],[1.0...|            0.0|[0.92056114723729...|       0.0|[0.71515642951996...|\n",
      "|(9,[0,1,4,5],[1.0...|            0.0|[0.92056114723729...|       0.0|[0.71515642951996...|\n",
      "|(9,[0,1,4,5],[1.0...|            0.0|[0.98616703376883...|       0.0|[0.72833017531127...|\n",
      "|(9,[0,1,4,5],[1.0...|            0.0|[0.98616703376883...|       0.0|[0.72833017531127...|\n",
      "|(9,[0,1,4,5],[1.0...|            0.0|[0.98616703376883...|       0.0|[0.72833017531127...|\n",
      "|(9,[0,1,4,5],[1.0...|            0.0|[0.99436776958528...|       0.0|[0.72994977488117...|\n",
      "|(9,[0,1,4,5],[1.0...|            0.0|[1.00256850540172...|       0.0|[0.73156327763876...|\n",
      "|(9,[0,1,4,5],[1.0...|            0.0|[1.01076924121816...|       0.0|[0.73317066399677...|\n",
      "|(9,[0,1,4,5],[1.0...|            0.0|[1.02717071285105...|       0.0|[0.73636701195305...|\n",
      "|(9,[0,1,4,5],[1.0...|            0.0|[1.02717071285105...|       0.0|[0.73636701195305...|\n",
      "|(9,[0,1,4,5],[1.0...|            0.0|[1.03537144866749...|       0.0|[0.73795593715883...|\n",
      "|(9,[0,1,4,5],[1.0...|            0.0|[1.04357218448393...|       0.0|[0.73953867317590...|\n",
      "+--------------------+---------------+--------------------+----------+--------------------+\n",
      "only showing top 20 rows\n",
      "\n"
     ]
    }
   ],
   "source": [
    "predictions = lrModel.transform(test)\n",
    "predictions.select('features','No-show_encoded', 'rawPrediction', 'prediction', 'probability').show(20)"
   ]
  },
  {
   "cell_type": "code",
   "execution_count": 18,
   "metadata": {
    "id": "3qgkmhDl90eE"
   },
   "outputs": [],
   "source": []
  },
  {
   "cell_type": "code",
   "execution_count": 18,
   "metadata": {
    "id": "P3n5_hG090vB"
   },
   "outputs": [],
   "source": []
  },
  {
   "cell_type": "code",
   "execution_count": 18,
   "metadata": {
    "id": "xRWhUUoF91CE"
   },
   "outputs": [],
   "source": []
  },
  {
   "cell_type": "code",
   "execution_count": 18,
   "metadata": {
    "id": "GoH9mJQE91TL"
   },
   "outputs": [],
   "source": []
  },
  {
   "cell_type": "code",
   "execution_count": null,
   "metadata": {
    "id": "eSlM5L1b91ie"
   },
   "outputs": [],
   "source": []
  }
 ],
 "metadata": {
  "colab": {
   "name": "Untitled4.ipynb",
   "provenance": []
  },
  "kernelspec": {
   "display_name": "Python 3",
   "language": "python",
   "name": "python3"
  },
  "language_info": {
   "codemirror_mode": {
    "name": "ipython",
    "version": 3
   },
   "file_extension": ".py",
   "mimetype": "text/x-python",
   "name": "python",
   "nbconvert_exporter": "python",
   "pygments_lexer": "ipython3",
   "version": "3.8.8"
  }
 },
 "nbformat": 4,
 "nbformat_minor": 1
}
